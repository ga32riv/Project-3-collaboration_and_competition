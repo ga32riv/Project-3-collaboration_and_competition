{
 "cells": [
  {
   "cell_type": "markdown",
   "metadata": {},
   "source": [
    "# Collaboration and Competition\n",
    "\n",
    "---\n",
    "\n",
    "You are welcome to use this coding environment to train your agent for the project.  Follow the instructions below to get started!\n",
    "\n",
    "### 1. Start the Environment\n",
    "\n",
    "Run the next code cell to install a few packages.  This line will take a few minutes to run!"
   ]
  },
  {
   "cell_type": "code",
   "execution_count": 1,
   "metadata": {},
   "outputs": [
    {
     "name": "stdout",
     "output_type": "stream",
     "text": [
      "\u001b[31mtensorflow 1.7.1 has requirement numpy>=1.13.3, but you'll have numpy 1.12.1 which is incompatible.\u001b[0m\r\n",
      "\u001b[31mipython 6.5.0 has requirement prompt-toolkit<2.0.0,>=1.0.15, but you'll have prompt-toolkit 3.0.18 which is incompatible.\u001b[0m\r\n"
     ]
    }
   ],
   "source": [
    "!pip -q install ./python"
   ]
  },
  {
   "cell_type": "markdown",
   "metadata": {},
   "source": [
    "The environment is already saved in the Workspace and can be accessed at the file path provided below. "
   ]
  },
  {
   "cell_type": "code",
   "execution_count": 2,
   "metadata": {},
   "outputs": [
    {
     "name": "stderr",
     "output_type": "stream",
     "text": [
      "INFO:unityagents:\n",
      "'Academy' started successfully!\n",
      "Unity Academy name: Academy\n",
      "        Number of Brains: 1\n",
      "        Number of External Brains : 1\n",
      "        Lesson number : 0\n",
      "        Reset Parameters :\n",
      "\t\t\n",
      "Unity brain name: TennisBrain\n",
      "        Number of Visual Observations (per agent): 0\n",
      "        Vector Observation space type: continuous\n",
      "        Vector Observation space size (per agent): 8\n",
      "        Number of stacked Vector Observation: 3\n",
      "        Vector Action space type: continuous\n",
      "        Vector Action space size (per agent): 2\n",
      "        Vector Action descriptions: , \n"
     ]
    }
   ],
   "source": [
    "from unityagents import UnityEnvironment\n",
    "from maddpg_agent import Agent\n",
    "import numpy as np\n",
    "from collections import deque\n",
    "import matplotlib.pyplot as plt\n",
    "import random\n",
    "import time\n",
    "import torch\n",
    "\n",
    "env = UnityEnvironment(file_name=\"/data/Tennis_Linux_NoVis/Tennis\")"
   ]
  },
  {
   "cell_type": "markdown",
   "metadata": {},
   "source": [
    "Environments contain **_brains_** which are responsible for deciding the actions of their associated agents. Here we check for the first brain available, and set it as the default brain we will be controlling from Python."
   ]
  },
  {
   "cell_type": "code",
   "execution_count": 3,
   "metadata": {},
   "outputs": [],
   "source": [
    "# get the default brain\n",
    "brain_name = env.brain_names[0]\n",
    "brain = env.brains[brain_name]"
   ]
  },
  {
   "cell_type": "markdown",
   "metadata": {},
   "source": [
    "### 2. Examine the State and Action Spaces\n",
    "\n",
    "Run the code cell below to print some information about the environment."
   ]
  },
  {
   "cell_type": "code",
   "execution_count": 4,
   "metadata": {},
   "outputs": [
    {
     "name": "stdout",
     "output_type": "stream",
     "text": [
      "Number of agents: 2\n",
      "Size of each action: 2\n",
      "There are 2 agents. Each observes a state with length: 24\n",
      "The state for the first agent looks like: [ 0.          0.          0.          0.          0.          0.          0.\n",
      "  0.          0.          0.          0.          0.          0.          0.\n",
      "  0.          0.         -6.65278625 -1.5        -0.          0.\n",
      "  6.83172083  6.         -0.          0.        ]\n"
     ]
    }
   ],
   "source": [
    "# reset the environment\n",
    "env_info = env.reset(train_mode=True)[brain_name]\n",
    "\n",
    "# number of agents \n",
    "num_agents = len(env_info.agents)\n",
    "print('Number of agents:', num_agents)\n",
    "\n",
    "# size of each action\n",
    "action_size = brain.vector_action_space_size\n",
    "print('Size of each action:', action_size)\n",
    "\n",
    "# examine the state space \n",
    "states = env_info.vector_observations\n",
    "state_size = states.shape[1]\n",
    "print('There are {} agents. Each observes a state with length: {}'.format(states.shape[0], state_size))\n",
    "print('The state for the first agent looks like:', states[0])"
   ]
  },
  {
   "cell_type": "markdown",
   "metadata": {},
   "source": [
    "### 3. Take Random Actions in the Environment\n",
    "\n",
    "In the next code cell, you will learn how to use the Python API to control the agent and receive feedback from the environment.\n",
    "\n",
    "Note that **in this coding environment, you will not be able to watch the agents while they are training**, and you should set `train_mode=True` to restart the environment."
   ]
  },
  {
   "cell_type": "code",
   "execution_count": 5,
   "metadata": {},
   "outputs": [
    {
     "name": "stdout",
     "output_type": "stream",
     "text": [
      "Total score (averaged over agents) this episode: 0.04500000085681677\n",
      "Total score (averaged over agents) this episode: -0.004999999888241291\n",
      "Total score (averaged over agents) this episode: -0.004999999888241291\n",
      "Total score (averaged over agents) this episode: -0.004999999888241291\n",
      "Total score (averaged over agents) this episode: -0.004999999888241291\n"
     ]
    }
   ],
   "source": [
    "for i in range(5):                                         # play game for 5 episodes\n",
    "    env_info = env.reset(train_mode=False)[brain_name]     # reset the environment    \n",
    "    states = env_info.vector_observations                  # get the current state (for each agent)\n",
    "    scores = np.zeros(num_agents)                          # initialize the score (for each agent)\n",
    "    while True:\n",
    "        actions = np.random.randn(num_agents, action_size) # select an action (for each agent)\n",
    "        actions = np.clip(actions, -1, 1)                  # all actions between -1 and 1\n",
    "        env_info = env.step(actions)[brain_name]           # send all actions to tne environment\n",
    "        next_states = env_info.vector_observations         # get next state (for each agent)\n",
    "        rewards = env_info.rewards                         # get reward (for each agent)\n",
    "        dones = env_info.local_done                        # see if episode finished\n",
    "        scores += env_info.rewards                         # update the score (for each agent)\n",
    "        states = next_states                               # roll over states to next time step\n",
    "        if np.any(dones):                                  # exit loop if episode finished\n",
    "            break\n",
    "    print('Total score (averaged over agents) this episode: {}'.format(np.mean(scores)))"
   ]
  },
  {
   "cell_type": "markdown",
   "metadata": {},
   "source": [
    "When finished, you can close the environment."
   ]
  },
  {
   "cell_type": "code",
   "execution_count": 6,
   "metadata": {},
   "outputs": [],
   "source": [
    "#env.close()"
   ]
  },
  {
   "cell_type": "markdown",
   "metadata": {},
   "source": [
    "### 4. It's Your Turn!\n",
    "\n",
    "Now it's your turn to train your own agent to solve the environment!  A few **important notes**:\n",
    "- When training the environment, set `train_mode=True`, so that the line for resetting the environment looks like the following:\n",
    "```python\n",
    "env_info = env.reset(train_mode=True)[brain_name]\n",
    "```\n",
    "- To structure your work, you're welcome to work directly in this Jupyter notebook, or you might like to start over with a new file!  You can see the list of files in the workspace by clicking on **_Jupyter_** in the top left corner of the notebook.\n",
    "- In this coding environment, you will not be able to watch the agents while they are training.  However, **_after training the agents_**, you can download the saved model weights to watch the agents on your own machine! "
   ]
  },
  {
   "cell_type": "code",
   "execution_count": 5,
   "metadata": {},
   "outputs": [],
   "source": [
    "ADD_NOISE = True\n",
    "SOLVED_SCORE = 0.5\n",
    "RANGE_EPISODES = 100\n",
    "\n",
    "# Multi-Agent Deep Deterministic Policy Gradient (MADDPG)\n",
    "def maddpg(agent_1, agent_2, n_episodes=2000, max_t=1000, train_mode=True):\n",
    "   \n",
    "    scores_window = deque(maxlen=RANGE_EPISODES)\n",
    "    scores_all = []\n",
    "    moving_average = []\n",
    "    best_score = -np.inf\n",
    "    best_episode = 0\n",
    "    already_solved = False\n",
    "    start_time = time.time()\n",
    "\n",
    "    for i_episode in range(1, n_episodes+1):\n",
    "        env_info = env.reset(train_mode=train_mode)[brain_name]         # resetting environment\n",
    "        states = np.reshape(env_info.vector_observations, (1,48)) # get and combine states \n",
    "        agent_1.reset()\n",
    "        agent_2.reset()\n",
    "        scores = np.zeros(num_agents)\n",
    "        while True:\n",
    "            action_1 = agent_1.act(states, ADD_NOISE)                        # choose action\n",
    "            action_2 = agent_2.act(states, ADD_NOISE)                        \n",
    "            actions = np.concatenate((action_1, action_2), axis=0).flatten() # choose and combine agents actions\n",
    "            env_info = env.step(actions)[brain_name]           # send agents actions to the environment\n",
    "            next_states = np.reshape(env_info.vector_observations, (1, 48)) # combine next states\n",
    "            rewards = env_info.rewards                         # get reward\n",
    "            done = env_info.local_done                         # see if episode done\n",
    "            agent_1.step(states, actions, rewards[0], next_states, done, 0) # learn\n",
    "            agent_2.step(states, actions, rewards[1], next_states, done, 1) \n",
    "            scores += np.max(rewards)                          # update the score of each agent\n",
    "            states = next_states                               # change states to next time step\n",
    "            if np.any(done):                                   # exit loop if episode done\n",
    "                break\n",
    "        if i_episode % 10 == 0:\n",
    "            duration = time.time() - start_time\n",
    "        ep_best_score = np.max(scores)\n",
    "        scores_window.append(ep_best_score)\n",
    "        scores_all.append(ep_best_score)\n",
    "        moving_average.append(np.mean(scores_window))\n",
    "\n",
    "\n",
    "        # save best score                        \n",
    "        if ep_best_score > best_score:\n",
    "            best_score = ep_best_score\n",
    "            best_episode = i_episode\n",
    "        \n",
    "        # print results\n",
    "        if i_episode % PRINT_10 == 0:\n",
    "            print('Episodes {:0>4d} ({} sec)\\tMax Reward: {:.3f}\\tMoving Average: {:.3f}'.format(\n",
    "                i_episode, round(duration), np.max(scores_all[-10:]), moving_average[-1]))\n",
    "\n",
    "        # check if environment is solved and keep best performing models\n",
    "        if moving_average[-1] >= SOLVED_SCORE:\n",
    "            if not already_solved:\n",
    "                print('<-- Goal reached in {:d} episodes! \\\n",
    "                \\n<-- Moving Average: {:.3f} over past {:d} episodes'.format(\n",
    "                    i_episode-RANGE_EPISODES, moving_average[-1], RANGE_EPISODES))\n",
    "                already_solved = True\n",
    "                # save \n",
    "                torch.save(agent_1.actor_local.state_dict(), 'trained_models/checkpoint_actor_1.pth')\n",
    "                torch.save(agent_1.critic_local.state_dict(), 'trained_models/checkpoint_critic_1.pth')\n",
    "                torch.save(agent_2.actor_local.state_dict(), 'trained_models/checkpoint_actor_2.pth')\n",
    "                torch.save(agent_2.critic_local.state_dict(), 'trained_models/checkpoint_critic_2.pth')\n",
    "            elif ep_best_score >= best_score:\n",
    "                print('<-- New best score!\\\n",
    "                \\nEpisode {:0>4d}\\tMax Reward: {:.3f}\\tMoving Average: {:.3f}'.format(\n",
    "                i_episode, ep_best_score, moving_average[-1]))\n",
    "                # save\n",
    "                torch.save(agent_1.actor_local.state_dict(), 'trained_models/checkpoint_actor_1.pth')\n",
    "                torch.save(agent_1.critic_local.state_dict(), 'trained_models/checkpoint_critic_1.pth')\n",
    "                torch.save(agent_2.actor_local.state_dict(), 'trained_models/checkpoint_actor_2.pth')\n",
    "                torch.save(agent_2.critic_local.state_dict(), 'trained_models/checkpoint_critic_2.pth')\n",
    "            elif (i_episode-best_episode) >= 200:\n",
    "                # stop the training if model stops converging\n",
    "                print('<-- Training stopped. Best score not updated during last 200 episodes')\n",
    "                break\n",
    "            else:\n",
    "                continue\n",
    "        if i_episode % 10 == 0:\n",
    "            start_time = time.time()\n",
    "            \n",
    "    return scores_all, moving_average\n"
   ]
  },
  {
   "cell_type": "code",
   "execution_count": 6,
   "metadata": {
    "scrolled": true
   },
   "outputs": [
    {
     "name": "stdout",
     "output_type": "stream",
     "text": [
      "Actor Local Network :\n",
      "Actor(\n",
      "  (fc1): Linear(in_features=48, out_features=256, bias=True)\n",
      "  (fc2): Linear(in_features=256, out_features=128, bias=True)\n",
      "  (fc3): Linear(in_features=128, out_features=2, bias=True)\n",
      ")\n",
      "Actor Target Network :\n",
      "Actor(\n",
      "  (fc1): Linear(in_features=48, out_features=256, bias=True)\n",
      "  (fc2): Linear(in_features=256, out_features=128, bias=True)\n",
      "  (fc3): Linear(in_features=128, out_features=2, bias=True)\n",
      ")\n",
      "Critic Local Network:\n",
      "Critic(\n",
      "  (fcs1): Linear(in_features=48, out_features=256, bias=True)\n",
      "  (fc2): Linear(in_features=260, out_features=128, bias=True)\n",
      "  (fc3): Linear(in_features=128, out_features=1, bias=True)\n",
      ")\n",
      "Critic Target Network:\n",
      "Critic(\n",
      "  (fcs1): Linear(in_features=48, out_features=256, bias=True)\n",
      "  (fc2): Linear(in_features=260, out_features=128, bias=True)\n",
      "  (fc3): Linear(in_features=128, out_features=1, bias=True)\n",
      ")\n",
      "Actor Local Network :\n",
      "Actor(\n",
      "  (fc1): Linear(in_features=48, out_features=256, bias=True)\n",
      "  (fc2): Linear(in_features=256, out_features=128, bias=True)\n",
      "  (fc3): Linear(in_features=128, out_features=2, bias=True)\n",
      ")\n",
      "Actor Target Network :\n",
      "Actor(\n",
      "  (fc1): Linear(in_features=48, out_features=256, bias=True)\n",
      "  (fc2): Linear(in_features=256, out_features=128, bias=True)\n",
      "  (fc3): Linear(in_features=128, out_features=2, bias=True)\n",
      ")\n",
      "Critic Local Network:\n",
      "Critic(\n",
      "  (fcs1): Linear(in_features=48, out_features=256, bias=True)\n",
      "  (fc2): Linear(in_features=260, out_features=128, bias=True)\n",
      "  (fc3): Linear(in_features=128, out_features=1, bias=True)\n",
      ")\n",
      "Critic Target Network:\n",
      "Critic(\n",
      "  (fcs1): Linear(in_features=48, out_features=256, bias=True)\n",
      "  (fc2): Linear(in_features=260, out_features=128, bias=True)\n",
      "  (fc3): Linear(in_features=128, out_features=1, bias=True)\n",
      ")\n"
     ]
    }
   ],
   "source": [
    "# initialize agents\n",
    "agent_1 = Agent(state_size, action_size, num_agents=1, random_seed=1)\n",
    "agent_2 = Agent(state_size, action_size, num_agents=1, random_seed=1)"
   ]
  },
  {
   "cell_type": "code",
   "execution_count": 7,
   "metadata": {},
   "outputs": [
    {
     "name": "stdout",
     "output_type": "stream",
     "text": [
      "Episodes 0010 (3 sec)\tMax Reward: 0.100\tMoving Average: 0.020\n",
      "Episodes 0020 (3 sec)\tMax Reward: 0.000\tMoving Average: 0.010\n",
      "Episodes 0030 (3 sec)\tMax Reward: 0.000\tMoving Average: 0.007\n",
      "Episodes 0040 (3 sec)\tMax Reward: 0.000\tMoving Average: 0.005\n",
      "Episodes 0050 (3 sec)\tMax Reward: 0.100\tMoving Average: 0.006\n",
      "Episodes 0060 (3 sec)\tMax Reward: 0.000\tMoving Average: 0.005\n",
      "Episodes 0070 (3 sec)\tMax Reward: 0.000\tMoving Average: 0.004\n",
      "Episodes 0080 (3 sec)\tMax Reward: 0.000\tMoving Average: 0.004\n",
      "Episodes 0090 (3 sec)\tMax Reward: 0.000\tMoving Average: 0.003\n",
      "Episodes 0100 (3 sec)\tMax Reward: 0.000\tMoving Average: 0.003\n",
      "Episodes 0110 (3 sec)\tMax Reward: 0.000\tMoving Average: 0.001\n",
      "Episodes 0120 (3 sec)\tMax Reward: 0.000\tMoving Average: 0.001\n",
      "Episodes 0130 (3 sec)\tMax Reward: 0.000\tMoving Average: 0.001\n",
      "Episodes 0140 (3 sec)\tMax Reward: 0.000\tMoving Average: 0.001\n",
      "Episodes 0150 (3 sec)\tMax Reward: 0.100\tMoving Average: 0.001\n",
      "Episodes 0160 (3 sec)\tMax Reward: 0.000\tMoving Average: 0.001\n",
      "Episodes 0170 (4 sec)\tMax Reward: 0.100\tMoving Average: 0.003\n",
      "Episodes 0180 (4 sec)\tMax Reward: 0.100\tMoving Average: 0.005\n",
      "Episodes 0190 (4 sec)\tMax Reward: 0.100\tMoving Average: 0.006\n",
      "Episodes 0200 (4 sec)\tMax Reward: 0.100\tMoving Average: 0.007\n",
      "Episodes 0210 (4 sec)\tMax Reward: 0.100\tMoving Average: 0.008\n",
      "Episodes 0220 (3 sec)\tMax Reward: 0.000\tMoving Average: 0.008\n",
      "Episodes 0230 (3 sec)\tMax Reward: 0.000\tMoving Average: 0.008\n",
      "Episodes 0240 (3 sec)\tMax Reward: 0.000\tMoving Average: 0.008\n",
      "Episodes 0250 (5 sec)\tMax Reward: 0.100\tMoving Average: 0.010\n",
      "Episodes 0260 (5 sec)\tMax Reward: 0.100\tMoving Average: 0.013\n",
      "Episodes 0270 (3 sec)\tMax Reward: 0.000\tMoving Average: 0.011\n",
      "Episodes 0280 (3 sec)\tMax Reward: 0.100\tMoving Average: 0.010\n",
      "Episodes 0290 (4 sec)\tMax Reward: 0.100\tMoving Average: 0.010\n",
      "Episodes 0300 (3 sec)\tMax Reward: 0.000\tMoving Average: 0.009\n",
      "Episodes 0310 (3 sec)\tMax Reward: 0.000\tMoving Average: 0.008\n",
      "Episodes 0320 (4 sec)\tMax Reward: 0.100\tMoving Average: 0.011\n",
      "Episodes 0330 (4 sec)\tMax Reward: 0.100\tMoving Average: 0.013\n",
      "Episodes 0340 (4 sec)\tMax Reward: 0.200\tMoving Average: 0.016\n",
      "Episodes 0350 (5 sec)\tMax Reward: 0.200\tMoving Average: 0.018\n",
      "Episodes 0360 (3 sec)\tMax Reward: 0.000\tMoving Average: 0.015\n",
      "Episodes 0370 (4 sec)\tMax Reward: 0.100\tMoving Average: 0.019\n",
      "Episodes 0380 (3 sec)\tMax Reward: 0.100\tMoving Average: 0.019\n",
      "Episodes 0390 (4 sec)\tMax Reward: 0.100\tMoving Average: 0.020\n",
      "Episodes 0400 (3 sec)\tMax Reward: 0.000\tMoving Average: 0.020\n",
      "Episodes 0410 (3 sec)\tMax Reward: 0.000\tMoving Average: 0.020\n",
      "Episodes 0420 (5 sec)\tMax Reward: 0.400\tMoving Average: 0.023\n",
      "Episodes 0430 (5 sec)\tMax Reward: 0.300\tMoving Average: 0.027\n",
      "Episodes 0440 (6 sec)\tMax Reward: 0.500\tMoving Average: 0.031\n",
      "Episodes 0450 (4 sec)\tMax Reward: 0.100\tMoving Average: 0.029\n",
      "Episodes 0460 (4 sec)\tMax Reward: 0.200\tMoving Average: 0.031\n",
      "Episodes 0470 (4 sec)\tMax Reward: 0.100\tMoving Average: 0.029\n",
      "Episodes 0480 (4 sec)\tMax Reward: 0.300\tMoving Average: 0.031\n",
      "Episodes 0490 (4 sec)\tMax Reward: 0.100\tMoving Average: 0.031\n",
      "Episodes 0500 (5 sec)\tMax Reward: 0.200\tMoving Average: 0.036\n",
      "Episodes 0510 (3 sec)\tMax Reward: 0.000\tMoving Average: 0.036\n",
      "Episodes 0520 (4 sec)\tMax Reward: 0.100\tMoving Average: 0.033\n",
      "Episodes 0530 (4 sec)\tMax Reward: 0.100\tMoving Average: 0.029\n",
      "Episodes 0540 (3 sec)\tMax Reward: 0.000\tMoving Average: 0.022\n",
      "Episodes 0550 (4 sec)\tMax Reward: 0.100\tMoving Average: 0.021\n",
      "Episodes 0560 (5 sec)\tMax Reward: 0.200\tMoving Average: 0.024\n",
      "Episodes 0570 (4 sec)\tMax Reward: 0.100\tMoving Average: 0.024\n",
      "Episodes 0580 (4 sec)\tMax Reward: 0.100\tMoving Average: 0.023\n",
      "Episodes 0590 (3 sec)\tMax Reward: 0.100\tMoving Average: 0.022\n",
      "Episodes 0600 (5 sec)\tMax Reward: 0.300\tMoving Average: 0.023\n",
      "Episodes 0610 (3 sec)\tMax Reward: 0.000\tMoving Average: 0.023\n",
      "Episodes 0620 (4 sec)\tMax Reward: 0.200\tMoving Average: 0.023\n",
      "Episodes 0630 (3 sec)\tMax Reward: 0.100\tMoving Average: 0.022\n",
      "Episodes 0640 (3 sec)\tMax Reward: 0.100\tMoving Average: 0.023\n",
      "Episodes 0650 (3 sec)\tMax Reward: 0.000\tMoving Average: 0.021\n",
      "Episodes 0660 (5 sec)\tMax Reward: 0.100\tMoving Average: 0.019\n",
      "Episodes 0670 (3 sec)\tMax Reward: 0.100\tMoving Average: 0.018\n",
      "Episodes 0680 (6 sec)\tMax Reward: 0.100\tMoving Average: 0.024\n",
      "Episodes 0690 (8 sec)\tMax Reward: 0.300\tMoving Average: 0.035\n",
      "Episodes 0700 (8 sec)\tMax Reward: 0.300\tMoving Average: 0.043\n",
      "Episodes 0710 (7 sec)\tMax Reward: 0.200\tMoving Average: 0.053\n",
      "Episodes 0720 (8 sec)\tMax Reward: 0.300\tMoving Average: 0.063\n",
      "Episodes 0730 (8 sec)\tMax Reward: 0.200\tMoving Average: 0.074\n",
      "Episodes 0740 (10 sec)\tMax Reward: 0.400\tMoving Average: 0.089\n",
      "Episodes 0750 (10 sec)\tMax Reward: 0.300\tMoving Average: 0.103\n",
      "Episodes 0760 (8 sec)\tMax Reward: 0.200\tMoving Average: 0.111\n",
      "Episodes 0770 (10 sec)\tMax Reward: 0.300\tMoving Average: 0.127\n",
      "Episodes 0780 (8 sec)\tMax Reward: 0.200\tMoving Average: 0.131\n",
      "Episodes 0790 (9 sec)\tMax Reward: 0.200\tMoving Average: 0.133\n",
      "Episodes 0800 (10 sec)\tMax Reward: 0.200\tMoving Average: 0.132\n",
      "Episodes 0810 (9 sec)\tMax Reward: 0.300\tMoving Average: 0.134\n",
      "Episodes 0820 (13 sec)\tMax Reward: 0.600\tMoving Average: 0.142\n",
      "Episodes 0830 (14 sec)\tMax Reward: 0.500\tMoving Average: 0.153\n",
      "Episodes 0840 (14 sec)\tMax Reward: 0.400\tMoving Average: 0.160\n",
      "Episodes 0850 (12 sec)\tMax Reward: 0.500\tMoving Average: 0.166\n",
      "Episodes 0860 (10 sec)\tMax Reward: 0.300\tMoving Average: 0.171\n",
      "Episodes 0870 (11 sec)\tMax Reward: 0.300\tMoving Average: 0.173\n",
      "Episodes 0880 (11 sec)\tMax Reward: 0.400\tMoving Average: 0.180\n",
      "Episodes 0890 (14 sec)\tMax Reward: 0.900\tMoving Average: 0.193\n",
      "Episodes 0900 (12 sec)\tMax Reward: 0.400\tMoving Average: 0.200\n",
      "Episodes 0910 (11 sec)\tMax Reward: 0.500\tMoving Average: 0.207\n",
      "Episodes 0920 (15 sec)\tMax Reward: 0.500\tMoving Average: 0.215\n",
      "Episodes 0930 (12 sec)\tMax Reward: 0.300\tMoving Average: 0.212\n",
      "Episodes 0940 (15 sec)\tMax Reward: 0.500\tMoving Average: 0.215\n",
      "Episodes 0950 (13 sec)\tMax Reward: 0.500\tMoving Average: 0.220\n",
      "Episodes 0960 (12 sec)\tMax Reward: 0.500\tMoving Average: 0.224\n",
      "Episodes 0970 (11 sec)\tMax Reward: 0.700\tMoving Average: 0.225\n",
      "Episodes 0980 (13 sec)\tMax Reward: 0.800\tMoving Average: 0.229\n",
      "Episodes 0990 (15 sec)\tMax Reward: 0.700\tMoving Average: 0.232\n",
      "Episodes 1000 (7 sec)\tMax Reward: 0.200\tMoving Average: 0.222\n",
      "Episodes 1010 (9 sec)\tMax Reward: 0.300\tMoving Average: 0.218\n",
      "Episodes 1020 (14 sec)\tMax Reward: 1.300\tMoving Average: 0.215\n",
      "Episodes 1030 (10 sec)\tMax Reward: 0.300\tMoving Average: 0.211\n",
      "Episodes 1040 (11 sec)\tMax Reward: 0.300\tMoving Average: 0.204\n",
      "Episodes 1050 (13 sec)\tMax Reward: 0.300\tMoving Average: 0.203\n",
      "Episodes 1060 (10 sec)\tMax Reward: 0.300\tMoving Average: 0.199\n",
      "Episodes 1070 (13 sec)\tMax Reward: 0.300\tMoving Average: 0.203\n",
      "Episodes 1080 (10 sec)\tMax Reward: 0.300\tMoving Average: 0.197\n",
      "Episodes 1090 (8 sec)\tMax Reward: 0.200\tMoving Average: 0.178\n",
      "Episodes 1100 (10 sec)\tMax Reward: 0.500\tMoving Average: 0.184\n",
      "Episodes 1110 (7 sec)\tMax Reward: 0.300\tMoving Average: 0.180\n",
      "Episodes 1120 (12 sec)\tMax Reward: 1.000\tMoving Average: 0.177\n",
      "Episodes 1130 (12 sec)\tMax Reward: 0.300\tMoving Average: 0.181\n",
      "Episodes 1140 (8 sec)\tMax Reward: 0.300\tMoving Average: 0.176\n",
      "Episodes 1150 (10 sec)\tMax Reward: 0.300\tMoving Average: 0.168\n",
      "Episodes 1160 (16 sec)\tMax Reward: 0.900\tMoving Average: 0.183\n",
      "Episodes 1170 (15 sec)\tMax Reward: 0.900\tMoving Average: 0.188\n",
      "Episodes 1180 (11 sec)\tMax Reward: 0.300\tMoving Average: 0.190\n",
      "Episodes 1190 (12 sec)\tMax Reward: 0.300\tMoving Average: 0.199\n",
      "Episodes 1200 (11 sec)\tMax Reward: 0.500\tMoving Average: 0.200\n",
      "Episodes 1210 (14 sec)\tMax Reward: 0.700\tMoving Average: 0.214\n",
      "Episodes 1220 (14 sec)\tMax Reward: 0.300\tMoving Average: 0.217\n",
      "Episodes 1230 (13 sec)\tMax Reward: 0.300\tMoving Average: 0.218\n",
      "Episodes 1240 (21 sec)\tMax Reward: 2.700\tMoving Average: 0.246\n",
      "Episodes 1250 (23 sec)\tMax Reward: 2.900\tMoving Average: 0.280\n",
      "Episodes 1260 (10 sec)\tMax Reward: 0.300\tMoving Average: 0.265\n",
      "Episodes 1270 (16 sec)\tMax Reward: 0.800\tMoving Average: 0.265\n",
      "Episodes 1280 (13 sec)\tMax Reward: 0.800\tMoving Average: 0.270\n",
      "Episodes 1290 (20 sec)\tMax Reward: 1.900\tMoving Average: 0.292\n",
      "Episodes 1300 (12 sec)\tMax Reward: 0.400\tMoving Average: 0.295\n",
      "Episodes 1310 (23 sec)\tMax Reward: 1.600\tMoving Average: 0.322\n",
      "Episodes 1320 (31 sec)\tMax Reward: 2.700\tMoving Average: 0.364\n",
      "Episodes 1330 (33 sec)\tMax Reward: 5.200\tMoving Average: 0.420\n",
      "Episodes 1340 (50 sec)\tMax Reward: 5.100\tMoving Average: 0.495\n",
      "<-- Goal reached in 1242 episodes!                 \n",
      "<-- Moving Average: 0.505 over past 100 episodes\n",
      "Episodes 1350 (52 sec)\tMax Reward: 4.700\tMoving Average: 0.562\n",
      "Episodes 1360 (66 sec)\tMax Reward: 0.700\tMoving Average: 0.573\n",
      "Episodes 1370 (135 sec)\tMax Reward: 5.100\tMoving Average: 0.706\n",
      "Episodes 1380 (171 sec)\tMax Reward: 3.700\tMoving Average: 0.763\n",
      "Episodes 1390 (206 sec)\tMax Reward: 5.100\tMoving Average: 0.800\n",
      "Episodes 1400 (265 sec)\tMax Reward: 5.200\tMoving Average: 0.917\n",
      "<-- New best score!                \n",
      "Episode 1400\tMax Reward: 5.200\tMoving Average: 0.917\n",
      "<-- New best score!                \n",
      "Episode 1401\tMax Reward: 5.200\tMoving Average: 0.956\n",
      "<-- New best score!                \n",
      "Episode 1407\tMax Reward: 5.200\tMoving Average: 1.158\n",
      "Episodes 1410 (122 sec)\tMax Reward: 5.200\tMoving Average: 1.157\n",
      "<-- New best score!                \n",
      "Episode 1412\tMax Reward: 5.200\tMoving Average: 1.206\n",
      "Episodes 1420 (215 sec)\tMax Reward: 5.200\tMoving Average: 1.309\n",
      "<-- New best score!                \n",
      "Episode 1421\tMax Reward: 5.200\tMoving Average: 1.350\n",
      "<-- New best score!                \n",
      "Episode 1422\tMax Reward: 5.200\tMoving Average: 1.350\n",
      "<-- New best score!                \n",
      "Episode 1423\tMax Reward: 5.200\tMoving Average: 1.402\n",
      "Episodes 1430 (303 sec)\tMax Reward: 5.200\tMoving Average: 1.437\n",
      "<-- New best score!                \n",
      "Episode 1433\tMax Reward: 5.200\tMoving Average: 1.494\n",
      "<-- New best score!                \n",
      "Episode 1436\tMax Reward: 5.200\tMoving Average: 1.469\n",
      "<-- New best score!                \n",
      "Episode 1437\tMax Reward: 5.200\tMoving Average: 1.520\n",
      "Episodes 1440 (402 sec)\tMax Reward: 5.200\tMoving Average: 1.554\n",
      "Episodes 1450 (452 sec)\tMax Reward: 5.100\tMoving Average: 1.551\n",
      "<-- New best score!                \n",
      "Episode 1451\tMax Reward: 5.300\tMoving Average: 1.602\n",
      "Episodes 1460 (587 sec)\tMax Reward: 5.300\tMoving Average: 1.848\n",
      "Episodes 1470 (686 sec)\tMax Reward: 5.100\tMoving Average: 1.917\n",
      "Episodes 1480 (772 sec)\tMax Reward: 5.200\tMoving Average: 2.040\n",
      "Episodes 1490 (810 sec)\tMax Reward: 3.300\tMoving Average: 2.042\n",
      "Episodes 1500 (847 sec)\tMax Reward: 3.400\tMoving Average: 1.983\n",
      "Episodes 1510 (934 sec)\tMax Reward: 5.200\tMoving Average: 1.894\n",
      "Episodes 1520 (970 sec)\tMax Reward: 5.200\tMoving Average: 1.754\n",
      "Episodes 1530 (1011 sec)\tMax Reward: 4.700\tMoving Average: 1.641\n",
      "Episodes 1540 (1067 sec)\tMax Reward: 3.900\tMoving Average: 1.534\n",
      "Episodes 1550 (1162 sec)\tMax Reward: 5.200\tMoving Average: 1.643\n",
      "Episodes 1560 (1199 sec)\tMax Reward: 2.700\tMoving Average: 1.399\n",
      "Episodes 1570 (1248 sec)\tMax Reward: 4.900\tMoving Average: 1.277\n",
      "Episodes 1580 (1296 sec)\tMax Reward: 4.500\tMoving Average: 1.182\n",
      "Episodes 1590 (1340 sec)\tMax Reward: 4.500\tMoving Average: 1.198\n",
      "Episodes 1600 (1350 sec)\tMax Reward: 0.300\tMoving Average: 1.136\n",
      "Episodes 1610 (1359 sec)\tMax Reward: 0.300\tMoving Average: 0.946\n",
      "Episodes 1620 (1363 sec)\tMax Reward: 0.100\tMoving Average: 0.870\n",
      "Episodes 1630 (1373 sec)\tMax Reward: 0.200\tMoving Average: 0.792\n",
      "Episodes 1640 (1381 sec)\tMax Reward: 0.200\tMoving Average: 0.677\n",
      "Episodes 1650 (1390 sec)\tMax Reward: 0.300\tMoving Average: 0.468\n",
      "Episodes 1660 (8 sec)\tMax Reward: 0.200\tMoving Average: 0.399\n",
      "Episodes 1670 (9 sec)\tMax Reward: 0.200\tMoving Average: 0.303\n",
      "Episodes 1680 (18 sec)\tMax Reward: 1.200\tMoving Average: 0.227\n",
      "Episodes 1690 (39 sec)\tMax Reward: 3.500\tMoving Average: 0.213\n",
      "Episodes 1700 (28 sec)\tMax Reward: 3.900\tMoving Average: 0.255\n",
      "Episodes 1710 (22 sec)\tMax Reward: 1.700\tMoving Average: 0.283\n",
      "Episodes 1720 (64 sec)\tMax Reward: 5.200\tMoving Average: 0.423\n",
      "Episodes 1730 (18 sec)\tMax Reward: 0.900\tMoving Average: 0.440\n",
      "Episodes 1740 (30 sec)\tMax Reward: 3.600\tMoving Average: 0.488\n",
      "<-- Training stopped. Best score not updated during last 200 episodes\n"
     ]
    }
   ],
   "source": [
    "scores, avgs = maddpg(agent_1=agent_1, agent_2=agent_2)"
   ]
  },
  {
   "cell_type": "code",
   "execution_count": 8,
   "metadata": {},
   "outputs": [
    {
     "data": {
      "image/png": "[encoded data removed]",
      "text/plain": [
       "<matplotlib.figure.Figure at 0x7f0859d23630>"
      ]
     },
     "metadata": {
      "needs_background": "light"
     },
     "output_type": "display_data"
    },
    {
     "data": {
      "text/plain": [
       "<matplotlib.figure.Figure at 0x7f0859ce8550>"
      ]
     },
     "metadata": {},
     "output_type": "display_data"
    }
   ],
   "source": [
    "# plot scores\n",
    "fig = plt.figure()\n",
    "ax = fig.add_subplot(111)\n",
    "plt.plot(np.arange(1, len(scores)+1), scores)\n",
    "plt.ylabel('Score')\n",
    "plt.xlabel('Episode #')\n",
    "plt.show()\n",
    "plt.savefig('Score plot')"
   ]
  },
  {
   "cell_type": "code",
   "execution_count": 9,
   "metadata": {},
   "outputs": [
    {
     "data": {
      "image/png": "[encoded data removed]",
      "text/plain": [
       "<matplotlib.figure.Figure at 0x7f0859d232e8>"
      ]
     },
     "metadata": {
      "needs_background": "light"
     },
     "output_type": "display_data"
    },
    {
     "data": {
      "text/plain": [
       "<matplotlib.figure.Figure at 0x7f0859c81c18>"
      ]
     },
     "metadata": {},
     "output_type": "display_data"
    }
   ],
   "source": [
    "# plot moving averages\n",
    "fig = plt.figure()\n",
    "ax = fig.add_subplot(111)\n",
    "plt.plot(np.arange(1, len(avgs)+1), avgs)\n",
    "plt.ylabel('Average')\n",
    "plt.xlabel('Episode #')\n",
    "plt.show()\n",
    "plt.savefig('Average plot')"
   ]
  },
  {
   "cell_type": "code",
   "execution_count": null,
   "metadata": {},
   "outputs": [],
   "source": []
  },
  {
   "cell_type": "code",
   "execution_count": null,
   "metadata": {},
   "outputs": [],
   "source": []
  }
 ],
 "metadata": {
  "kernelspec": {
   "display_name": "Python 3",
   "language": "python",
   "name": "python3"
  },
  "language_info": {
   "codemirror_mode": {
    "name": "ipython",
    "version": 3
   },
   "file_extension": ".py",
   "mimetype": "text/x-python",
   "name": "python",
   "nbconvert_exporter": "python",
   "pygments_lexer": "ipython3",
   "version": "3.6.3"
  }
 },
 "nbformat": 4,
 "nbformat_minor": 2
}
